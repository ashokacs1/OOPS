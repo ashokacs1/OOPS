{
  "nbformat": 4,
  "nbformat_minor": 0,
  "metadata": {
    "colab": {
      "provenance": []
    },
    "kernelspec": {
      "name": "python3",
      "display_name": "Python 3"
    },
    "language_info": {
      "name": "python"
    }
  },
  "cells": [
    {
      "cell_type": "markdown",
      "source": [
        "Q1. Explain Class and Object with respect to Object-Oriented Programming. Give a suitable example."
      ],
      "metadata": {
        "id": "2N-vXOppHFIV"
      }
    },
    {
      "cell_type": "markdown",
      "source": [
        "\n",
        "In Object-Oriented Programming (OOP), a class and an object are two fundamental concepts.\n",
        "\n",
        "Class\n",
        "A class is a blueprint for creating objects. It defines a set of attributes and methods that the objects created from the class can have. Think of a class as a template or a prototype.\n",
        "\n",
        "Object\n",
        "An object is an instance of a class. When a class is defined, no memory is allocated until an object of that class is created. Objects have states and behaviors, represented by the class's attributes and methods.\n",
        "\n",
        "Example\n",
        "Consider a simple example of a class representing a Car."
      ],
      "metadata": {
        "id": "KOHGzmuCHZw6"
      }
    },
    {
      "cell_type": "code",
      "source": [
        "# Define a class named Car\n",
        "class Car:\n",
        "    # Constructor to initialize the object\n",
        "    def __init__(self, make, model, year):\n",
        "        self.make = make\n",
        "        self.model = model\n",
        "        self.year = year\n",
        "\n",
        "    # Method to display car details\n",
        "    def display_details(self):\n",
        "        print(f\"{self.year} {self.make} {self.model}\")\n",
        "\n",
        "    # Method to start the car\n",
        "    def start(self):\n",
        "        print(f\"The {self.make} {self.model} is starting.\")\n",
        "\n",
        "    # Method to stop the car\n",
        "    def stop(self):\n",
        "        print(f\"The {self.make} {self.model} is stopping.\")\n",
        "\n",
        "# Create an object of the Car class\n",
        "my_car = Car(\"Toyota\", \"Corolla\", 2020)\n",
        "\n",
        "# Accessing attributes and methods of the object\n",
        "my_car.display_details()  # Output: 2020 Toyota Corolla\n",
        "my_car.start()            # Output: The Toyota Corolla is starting.\n",
        "my_car.stop()             # Output: The Toyota Corolla is stopping.\n"
      ],
      "metadata": {
        "colab": {
          "base_uri": "https://localhost:8080/"
        },
        "id": "7WH6qJZ0HL8W",
        "outputId": "26863270-c522-4214-8e26-b2a5ae0f4c47"
      },
      "execution_count": 1,
      "outputs": [
        {
          "output_type": "stream",
          "name": "stdout",
          "text": [
            "2020 Toyota Corolla\n",
            "The Toyota Corolla is starting.\n",
            "The Toyota Corolla is stopping.\n"
          ]
        }
      ]
    },
    {
      "cell_type": "markdown",
      "source": [
        "In this example:\n",
        "\n",
        "Car is the class that defines what a car object should have and do. It has attributes like make, model, and year, and methods like display_details, start, and stop.\n",
        "my_car is an object (or instance) of the Car class. It has specific values for make, model, and year, and can use the methods defined in the Car class to perform actions."
      ],
      "metadata": {
        "id": "V129TU0JHkta"
      }
    },
    {
      "cell_type": "markdown",
      "source": [
        " Q2. Name the four pillars of OOPs."
      ],
      "metadata": {
        "id": "-SV20dQzHuEk"
      }
    },
    {
      "cell_type": "markdown",
      "source": [
        "The four pillars of Object-Oriented Programming (OOP) are:\n",
        "\n",
        "1. **Encapsulation**\n",
        "2. **Inheritance**\n",
        "3. **Polymorphism**\n",
        "4. **Abstraction**\n",
        "\n",
        "### 1. Encapsulation\n",
        "Encapsulation is the concept of bundling the data (attributes) and the methods (functions) that operate on the data into a single unit, called a class. It restricts direct access to some of the object's components, which can prevent the accidental modification of data. Access to the data can be controlled using access modifiers like private, protected, and public.\n",
        "\n",
        "### 2. Inheritance\n",
        "Inheritance is the mechanism by which one class (the child or derived class) inherits the properties and behaviors (methods) of another class (the parent or base class). This allows for code reusability and the creation of a hierarchical relationship between classes. The derived class can also override or extend the functionality of the base class.\n",
        "\n",
        "### 3. Polymorphism\n",
        "Polymorphism allows objects of different classes to be treated as objects of a common superclass. It enables one interface to be used for a general class of actions. The specific action is determined by the exact nature of the situation. Polymorphism is typically achieved through method overriding (runtime polymorphism) and method overloading (compile-time polymorphism).\n",
        "\n",
        "### 4. Abstraction\n",
        "Abstraction is the concept of hiding the complex implementation details and showing only the essential features of the object. It simplifies the design by allowing the programmer to focus on interactions at a higher level. Abstract classes and interfaces are used to achieve abstraction in OOP."
      ],
      "metadata": {
        "id": "U3-GcfTvH3Qt"
      }
    },
    {
      "cell_type": "markdown",
      "source": [
        " Q3. Explain why the __init__() function is used. Give a suitable example."
      ],
      "metadata": {
        "id": "3OaEE_dNH7qh"
      }
    },
    {
      "cell_type": "markdown",
      "source": [
        "The __init__() function in Python is a special method called a constructor. It is automatically invoked when a new object of a class is instantiated. The primary purpose of __init__() is to initialize the object's attributes with specific values when the object is created.\n",
        "\n",
        "Purpose of __init__():\n",
        "Initialization: It sets up the initial state of an object by assigning values to its attributes.\n",
        "Customization: It allows customization of the object creation process.\n",
        "Flexibility: It can take parameters, making it possible to pass values to the object's attributes during instantiation.\n",
        "Example\n",
        "Consider a class Person that has attributes for name and age."
      ],
      "metadata": {
        "id": "z7Kvw-z6IJA0"
      }
    },
    {
      "cell_type": "code",
      "source": [
        "class Person:\n",
        "    # The __init__ method to initialize the object's attributes\n",
        "    def __init__(self, name, age):\n",
        "        self.name = name  # Assign the name parameter to the name attribute\n",
        "        self.age = age    # Assign the age parameter to the age attribute\n",
        "\n",
        "    # Method to display person's details\n",
        "    def display_details(self):\n",
        "        print(f\"Name: {self.name}, Age: {self.age}\")\n",
        "\n",
        "# Create an object of the Person class\n",
        "person1 = Person(\"Alice\", 30)\n",
        "\n",
        "# Accessing attributes and methods of the object\n",
        "person1.display_details()  # Output: Name: Alice, Age: 30\n",
        "\n",
        "# Create another object of the Person class\n",
        "person2 = Person(\"Bob\", 25)\n",
        "\n",
        "# Accessing attributes and methods of the object\n",
        "person2.display_details()  # Output: Name: Bob, Age: 25\n"
      ],
      "metadata": {
        "colab": {
          "base_uri": "https://localhost:8080/"
        },
        "id": "EuWZrAjKHqQs",
        "outputId": "b638c4bd-9975-44bc-d294-542cf1cb8ceb"
      },
      "execution_count": 2,
      "outputs": [
        {
          "output_type": "stream",
          "name": "stdout",
          "text": [
            "Name: Alice, Age: 30\n",
            "Name: Bob, Age: 25\n"
          ]
        }
      ]
    },
    {
      "cell_type": "markdown",
      "source": [
        "In this example:\n",
        "\n",
        "The __init__() method initializes the name and age attributes for objects of the Person class.\n",
        "When person1 and person2 are created, the __init__() method is called with the provided arguments, setting the initial state of each object.\n",
        "The display_details() method is used to print the details of each person."
      ],
      "metadata": {
        "id": "QTOf8jZcH1hN"
      }
    },
    {
      "cell_type": "markdown",
      "source": [
        "Q4. Why self is used in OOPs?"
      ],
      "metadata": {
        "id": "LfRSn6L7IaFO"
      }
    },
    {
      "cell_type": "markdown",
      "source": [
        "\n",
        "In Object-Oriented Programming (OOP) in Python, the self parameter is used to represent the instance of the class. It is used to access variables that belong to the class and allows each object to keep track of its own data. Here’s why self is important:\n",
        "\n",
        "Reasons for Using self:\n",
        "Instance Reference:\n",
        "\n",
        "self refers to the current instance of the class. It is used to access attributes and methods within the class.\n",
        "Attribute Initialization:\n",
        "\n",
        "When initializing an object, self is used in the __init__() method to assign values to the object’s attributes.\n",
        "Method Association:\n",
        "\n",
        "By using self, methods within a class can reference other methods and attributes of the same object.\n",
        "Distinguishing Between Local and Instance Variables:\n",
        "\n",
        "It helps distinguish between instance variables and local variables within methods."
      ],
      "metadata": {
        "id": "NBZUNDKsIgN-"
      }
    },
    {
      "cell_type": "markdown",
      "source": [
        " Q5. What is inheritance? Give an example for each type of inheritance."
      ],
      "metadata": {
        "id": "-ms8ZobqIkYZ"
      }
    },
    {
      "cell_type": "markdown",
      "source": [
        "\n",
        "Inheritance is a fundamental concept in Object-Oriented Programming (OOP) that allows a class to inherit attributes and methods from another class. This promotes code reuse and establishes a relationship between the base (parent) class and the derived (child) class. There are several types of inheritance in Python:\n",
        "\n",
        "Single Inheritance\n",
        "Multiple Inheritance\n",
        "Multilevel Inheritance\n",
        "Hierarchical Inheritance\n",
        "Hybrid Inheritance\n",
        "1. Single Inheritance\n",
        "In single inheritance, a derived class inherits from only one base class."
      ],
      "metadata": {
        "id": "pMIwZmPkI-Tr"
      }
    },
    {
      "cell_type": "code",
      "source": [
        "class Animal:\n",
        "    def speak(self):\n",
        "        print(\"Animal speaks\")\n",
        "\n",
        "class Dog(Animal):\n",
        "    def bark(self):\n",
        "        print(\"Dog barks\")\n",
        "\n",
        "# Creating an object of the Dog class\n",
        "dog = Dog()\n",
        "dog.speak()  # Output: Animal speaks\n",
        "dog.bark()   # Output: Dog barks\n"
      ],
      "metadata": {
        "colab": {
          "base_uri": "https://localhost:8080/"
        },
        "id": "pVs4HKUtITkQ",
        "outputId": "a921fe06-ddff-4539-d8e0-e19c47aa1c5d"
      },
      "execution_count": 3,
      "outputs": [
        {
          "output_type": "stream",
          "name": "stdout",
          "text": [
            "Animal speaks\n",
            "Dog barks\n"
          ]
        }
      ]
    },
    {
      "cell_type": "markdown",
      "source": [
        "2. Multiple Inheritance\n",
        "In multiple inheritance, a derived class inherits from more than one base class.\n"
      ],
      "metadata": {
        "id": "rwlvAnAwJEwC"
      }
    },
    {
      "cell_type": "code",
      "source": [
        "class Animal:\n",
        "    def speak(self):\n",
        "        print(\"Animal speaks\")\n",
        "\n",
        "class Vehicle:\n",
        "    def run(self):\n",
        "        print(\"Vehicle runs\")\n",
        "\n",
        "class DogCar(Animal, Vehicle):\n",
        "    def bark_and_drive(self):\n",
        "        print(\"Dog barks and car drives\")\n",
        "\n",
        "# Creating an object of the DogCar class\n",
        "dog_car = DogCar()\n",
        "dog_car.speak()         # Output: Animal speaks\n",
        "dog_car.run()           # Output: Vehicle runs\n",
        "dog_car.bark_and_drive() # Output: Dog barks and car drives\n"
      ],
      "metadata": {
        "colab": {
          "base_uri": "https://localhost:8080/"
        },
        "id": "rAoEXwoqJDNf",
        "outputId": "9c282bbc-22ef-4088-a878-c4345b8e2203"
      },
      "execution_count": 4,
      "outputs": [
        {
          "output_type": "stream",
          "name": "stdout",
          "text": [
            "Animal speaks\n",
            "Vehicle runs\n",
            "Dog barks and car drives\n"
          ]
        }
      ]
    },
    {
      "cell_type": "markdown",
      "source": [
        "3. Multilevel Inheritance\n",
        "In multilevel inheritance, a derived class inherits from a base class, and another class inherits from the derived class, creating a chain of inheritance."
      ],
      "metadata": {
        "id": "KoQ8njXHJOH0"
      }
    },
    {
      "cell_type": "code",
      "source": [
        "class Animal:\n",
        "    def speak(self):\n",
        "        print(\"Animal speaks\")\n",
        "\n",
        "class Dog(Animal):\n",
        "    def bark(self):\n",
        "        print(\"Dog barks\")\n",
        "\n",
        "class Puppy(Dog):\n",
        "    def play(self):\n",
        "        print(\"Puppy plays\")\n",
        "\n",
        "# Creating an object of the Puppy class\n",
        "puppy = Puppy()\n",
        "puppy.speak()  # Output: Animal speaks\n",
        "puppy.bark()   # Output: Dog barks\n",
        "puppy.play()   # Output: Puppy plays\n"
      ],
      "metadata": {
        "colab": {
          "base_uri": "https://localhost:8080/"
        },
        "id": "yinECaOPJPK1",
        "outputId": "c35633cc-33c2-4a09-a836-680fd7e1a222"
      },
      "execution_count": 5,
      "outputs": [
        {
          "output_type": "stream",
          "name": "stdout",
          "text": [
            "Animal speaks\n",
            "Dog barks\n",
            "Puppy plays\n"
          ]
        }
      ]
    },
    {
      "cell_type": "markdown",
      "source": [
        "4. Hierarchical Inheritance\n",
        "In hierarchical inheritance, multiple derived classes inherit from a single base class."
      ],
      "metadata": {
        "id": "pGk7n360JU5m"
      }
    },
    {
      "cell_type": "code",
      "source": [
        "class Animal:\n",
        "    def speak(self):\n",
        "        print(\"Animal speaks\")\n",
        "\n",
        "class Dog(Animal):\n",
        "    def bark(self):\n",
        "        print(\"Dog barks\")\n",
        "\n",
        "class Cat(Animal):\n",
        "    def meow(self):\n",
        "        print(\"Cat meows\")\n",
        "\n",
        "# Creating objects of Dog and Cat classes\n",
        "dog = Dog()\n",
        "cat = Cat()\n",
        "\n",
        "dog.speak()  # Output: Animal speaks\n",
        "dog.bark()   # Output: Dog barks\n",
        "\n",
        "cat.speak()  # Output: Animal speaks\n",
        "cat.meow()   # Output: Cat meows\n"
      ],
      "metadata": {
        "colab": {
          "base_uri": "https://localhost:8080/"
        },
        "id": "0QqhteEpJRYP",
        "outputId": "e9c729a0-e0ec-4c80-eb3f-2fca361d36b1"
      },
      "execution_count": 6,
      "outputs": [
        {
          "output_type": "stream",
          "name": "stdout",
          "text": [
            "Animal speaks\n",
            "Dog barks\n",
            "Animal speaks\n",
            "Cat meows\n"
          ]
        }
      ]
    },
    {
      "cell_type": "markdown",
      "source": [
        "5. Hybrid Inheritance\n",
        "Hybrid inheritance is a combination of two or more types of inheritance. It can be a mix of single, multiple, multilevel, and hierarchical inheritance."
      ],
      "metadata": {
        "id": "qzNe7vHhJcX6"
      }
    },
    {
      "cell_type": "code",
      "source": [
        "class Animal:\n",
        "    def speak(self):\n",
        "        print(\"Animal speaks\")\n",
        "\n",
        "class Mammal(Animal):\n",
        "    def walk(self):\n",
        "        print(\"Mammal walks\")\n",
        "\n",
        "class Bird(Animal):\n",
        "    def fly(self):\n",
        "        print(\"Bird flies\")\n",
        "\n",
        "class Bat(Mammal, Bird):\n",
        "    def hang(self):\n",
        "        print(\"Bat hangs upside down\")\n",
        "\n",
        "# Creating an object of the Bat class\n",
        "bat = Bat()\n",
        "bat.speak()  # Output: Animal speaks\n",
        "bat.walk()   # Output: Mammal walks\n",
        "bat.fly()    # Output: Bird flies\n",
        "bat.hang()   # Output: Bat hangs upside down\n"
      ],
      "metadata": {
        "colab": {
          "base_uri": "https://localhost:8080/"
        },
        "id": "vde6mNzoJYJb",
        "outputId": "bafabc98-c19d-48a5-907e-b6a66d11a25a"
      },
      "execution_count": 7,
      "outputs": [
        {
          "output_type": "stream",
          "name": "stdout",
          "text": [
            "Animal speaks\n",
            "Mammal walks\n",
            "Bird flies\n",
            "Bat hangs upside down\n"
          ]
        }
      ]
    },
    {
      "cell_type": "markdown",
      "source": [
        "In each of these examples, the derived classes inherit attributes and methods from their respective base classes, demonstrating the different types of inheritance."
      ],
      "metadata": {
        "id": "0mUSTkCeJjSp"
      }
    }
  ]
}